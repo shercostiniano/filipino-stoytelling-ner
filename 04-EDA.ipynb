{
 "cells": [
  {
   "cell_type": "markdown",
   "metadata": {},
   "source": [
    "# Getting each word/label"
   ]
  },
  {
   "cell_type": "markdown",
   "metadata": {},
   "source": [
    "## Make sure to finish the steps in 03-parsing-doccano.ipynb"
   ]
  },
  {
   "cell_type": "code",
   "execution_count": 1,
   "metadata": {},
   "outputs": [
    {
     "name": "stdout",
     "output_type": "stream",
     "text": [
      "tokens                                          ['zebra', 'zoo']\n",
      "tags           ['Perception_Feel_Emotion', 'Perception_Feel_E...\n",
      "words_count                                                  227\n",
      "dtype: object\n"
     ]
    },
    {
     "data": {
      "text/html": [
       "<div>\n",
       "<style scoped>\n",
       "    .dataframe tbody tr th:only-of-type {\n",
       "        vertical-align: middle;\n",
       "    }\n",
       "\n",
       "    .dataframe tbody tr th {\n",
       "        vertical-align: top;\n",
       "    }\n",
       "\n",
       "    .dataframe thead th {\n",
       "        text-align: right;\n",
       "    }\n",
       "</style>\n",
       "<table border=\"1\" class=\"dataframe\">\n",
       "  <thead>\n",
       "    <tr style=\"text-align: right;\">\n",
       "      <th></th>\n",
       "      <th>tokens</th>\n",
       "      <th>tags</th>\n",
       "      <th>words_count</th>\n",
       "    </tr>\n",
       "  </thead>\n",
       "  <tbody>\n",
       "    <tr>\n",
       "      <th>0</th>\n",
       "      <td>['taba', 'taboy', 'taboy', 'tag', 'taga', 'tag...</td>\n",
       "      <td>['Perception_Feel_Emotion', 'Communication', '...</td>\n",
       "      <td>196</td>\n",
       "    </tr>\n",
       "    <tr>\n",
       "      <th>1</th>\n",
       "      <td>['maaabot', 'magagagamot', 'magising', 'magugu...</td>\n",
       "      <td>['Motion', 'Humans_Body', 'Contact_Interact', ...</td>\n",
       "      <td>46</td>\n",
       "    </tr>\n",
       "    <tr>\n",
       "      <th>2</th>\n",
       "      <td>['haba', 'habambuhay', 'hablot', 'habol', 'hag...</td>\n",
       "      <td>['Perception_Feel_Emotion', 'Change', 'Contact...</td>\n",
       "      <td>124</td>\n",
       "    </tr>\n",
       "    <tr>\n",
       "      <th>3</th>\n",
       "      <td>['oats', 'obra', 'oh', 'ohh', 'ohhh', 'oink', ...</td>\n",
       "      <td>['Objects', 'Objects', 'Communication', 'Commu...</td>\n",
       "      <td>28</td>\n",
       "    </tr>\n",
       "    <tr>\n",
       "      <th>4</th>\n",
       "      <td>['yabag', 'yabang', 'yakap', 'yanig', 'yapak',...</td>\n",
       "      <td>['Contact_Interact', 'Perception_Feel_Emotion'...</td>\n",
       "      <td>19</td>\n",
       "    </tr>\n",
       "  </tbody>\n",
       "</table>\n",
       "</div>"
      ],
      "text/plain": [
       "                                              tokens  \\\n",
       "0  ['taba', 'taboy', 'taboy', 'tag', 'taga', 'tag...   \n",
       "1  ['maaabot', 'magagagamot', 'magising', 'magugu...   \n",
       "2  ['haba', 'habambuhay', 'hablot', 'habol', 'hag...   \n",
       "3  ['oats', 'obra', 'oh', 'ohh', 'ohhh', 'oink', ...   \n",
       "4  ['yabag', 'yabang', 'yakap', 'yanig', 'yapak',...   \n",
       "\n",
       "                                                tags  words_count  \n",
       "0  ['Perception_Feel_Emotion', 'Communication', '...          196  \n",
       "1  ['Motion', 'Humans_Body', 'Contact_Interact', ...           46  \n",
       "2  ['Perception_Feel_Emotion', 'Change', 'Contact...          124  \n",
       "3  ['Objects', 'Objects', 'Communication', 'Commu...           28  \n",
       "4  ['Contact_Interact', 'Perception_Feel_Emotion'...           19  "
      ]
     },
     "execution_count": 1,
     "metadata": {},
     "output_type": "execute_result"
    }
   ],
   "source": [
    "import numpy as np\n",
    "import pandas as pd\n",
    "from ast import literal_eval\n",
    "\n",
    "df = pd.read_csv(r'dataset\\doccano-annotated\\complete-unique-label.csv') \n",
    "df['words_count'] = df['tokens'].apply(lambda x: len(literal_eval(x)))\n",
    "print(df.max())\n",
    "df.head()"
   ]
  },
  {
   "cell_type": "code",
   "execution_count": 2,
   "metadata": {},
   "outputs": [
    {
     "data": {
      "text/html": [
       "<div>\n",
       "<style scoped>\n",
       "    .dataframe tbody tr th:only-of-type {\n",
       "        vertical-align: middle;\n",
       "    }\n",
       "\n",
       "    .dataframe tbody tr th {\n",
       "        vertical-align: top;\n",
       "    }\n",
       "\n",
       "    .dataframe thead th {\n",
       "        text-align: right;\n",
       "    }\n",
       "</style>\n",
       "<table border=\"1\" class=\"dataframe\">\n",
       "  <thead>\n",
       "    <tr style=\"text-align: right;\">\n",
       "      <th></th>\n",
       "      <th>tokens</th>\n",
       "      <th>tags</th>\n",
       "    </tr>\n",
       "  </thead>\n",
       "  <tbody>\n",
       "    <tr>\n",
       "      <th>0</th>\n",
       "      <td>taba</td>\n",
       "      <td>Perception_Feel_Emotion</td>\n",
       "    </tr>\n",
       "    <tr>\n",
       "      <th>1</th>\n",
       "      <td>taboy</td>\n",
       "      <td>Communication</td>\n",
       "    </tr>\n",
       "    <tr>\n",
       "      <th>2</th>\n",
       "      <td>taboy</td>\n",
       "      <td>Contact_Interact</td>\n",
       "    </tr>\n",
       "    <tr>\n",
       "      <th>3</th>\n",
       "      <td>tag</td>\n",
       "      <td>Objects</td>\n",
       "    </tr>\n",
       "    <tr>\n",
       "      <th>4</th>\n",
       "      <td>taga</td>\n",
       "      <td>Humans_Body</td>\n",
       "    </tr>\n",
       "  </tbody>\n",
       "</table>\n",
       "</div>"
      ],
      "text/plain": [
       "  tokens                     tags\n",
       "0   taba  Perception_Feel_Emotion\n",
       "1  taboy            Communication\n",
       "2  taboy         Contact_Interact\n",
       "3    tag                  Objects\n",
       "4   taga              Humans_Body"
      ]
     },
     "execution_count": 2,
     "metadata": {},
     "output_type": "execute_result"
    }
   ],
   "source": [
    "tokens = df['tokens']\n",
    "tags = df['tags']\n",
    "word_list = []\n",
    "tag_list = []\n",
    "for words, labels in zip(tokens,tags):\n",
    "    words,labels = literal_eval(words),literal_eval(labels)\n",
    "    for key,value in zip(words,labels):\n",
    "        word_list.append(key)\n",
    "        tag_list.append(value)\n",
    "        \n",
    "dataset = zip(word_list, tag_list)\n",
    "df_word_label = pd.DataFrame(dataset, columns=['tokens','tags'])\n",
    "df_word_label.to_csv(r'dataset\\doccano-annotated\\complete-unique-label-eda-collapsed.csv', index=False)\n",
    "df_word_label.head()"
   ]
  },
  {
   "cell_type": "markdown",
   "metadata": {},
   "source": [
    "# EDA"
   ]
  },
  {
   "cell_type": "code",
   "execution_count": 29,
   "metadata": {},
   "outputs": [
    {
     "data": {
      "text/plain": [
       "Contact_Interact                    50\n",
       "Objects                             41\n",
       "Humans_Body                         30\n",
       "Animals                             20\n",
       "Perception_Feel_Emotion             19\n",
       "Motion                              19\n",
       "Natural_Environment                 14\n",
       "Change                              13\n",
       "Urban_Environment                   12\n",
       "Communication                        6\n",
       "Transportation                       4\n",
       "Weather_Lighting_Phenomena_Event     2\n",
       "Name: tags, dtype: int64"
      ]
     },
     "execution_count": 29,
     "metadata": {},
     "output_type": "execute_result"
    }
   ],
   "source": [
    "# Distribution\n",
    "count = df_word_label['tags'].value_counts()\n",
    "count"
   ]
  },
  {
   "cell_type": "markdown",
   "metadata": {},
   "source": [
    "## Getting all labels per word"
   ]
  },
  {
   "cell_type": "code",
   "execution_count": 31,
   "metadata": {},
   "outputs": [],
   "source": [
    "tokens = df['tokens']\n",
    "tags = df['tags']\n",
    "word_dict = {}\n",
    "word_labels_path = r'dataset\\doccano-annotated\\all-eda.csv'\n",
    "for words, labels in zip(tokens,tags):\n",
    "    words,labels = literal_eval(words),literal_eval(labels)\n",
    "    for key,value in zip(words,labels):\n",
    "        if key not in word_dict:\n",
    "            word_dict[key] = {}\n",
    "        if value not in word_dict[key]:\n",
    "            word_dict[key][value] = 1\n",
    "        word_dict[key][value] += 1\n",
    "        \n",
    "dataset = zip(word_dict.keys(), word_dict.values())\n",
    "df_word_label = pd.DataFrame(dataset, columns=['tokens','tags'])\n",
    "df_word_label.to_csv(word_labels_path, index=False)\n",
    "df_word_label.head()"
   ]
  },
  {
   "cell_type": "markdown",
   "metadata": {},
   "source": [
    "## Other Format"
   ]
  },
  {
   "cell_type": "code",
   "execution_count": null,
   "metadata": {},
   "outputs": [],
   "source": [
    "word_labels_path = r'dataset\\doccano-annotated\\word-labels-2.csv'\n",
    "tokens = df_word_label['tokens']\n",
    "tags = df_word_label['tags']\n",
    "word_dict = {}\n",
    "\n",
    "for words, labels in zip(tokens,tags):\n",
    "    print(words,labels)\n",
    "    words,labels = literal_eval(words),literal_eval(labels)\n",
    "    for key,value in zip(words,labels):\n",
    "        if key not in word_dict:\n",
    "            word_dict[key] = []\n",
    "        if value not in word_dict[key]:\n",
    "            word_dict[key].append(value)\n",
    "\n",
    "tags_test = word_dict.values()\n",
    "tags_new = [tags[0] for tags in tags_test]\n",
    "\n",
    "dataset = zip(word_dict.keys(), tags_new)\n",
    "df_word_label = pd.DataFrame(dataset, columns=['tokens','tags'])\n",
    "df_word_label.to_csv(word_labels_path, index=False)"
   ]
  }
 ],
 "metadata": {
  "kernelspec": {
   "display_name": "Python 3.10.4 ('env_mgnntagset')",
   "language": "python",
   "name": "python3"
  },
  "language_info": {
   "codemirror_mode": {
    "name": "ipython",
    "version": 3
   },
   "file_extension": ".py",
   "mimetype": "text/x-python",
   "name": "python",
   "nbconvert_exporter": "python",
   "pygments_lexer": "ipython3",
   "version": "3.10.4"
  },
  "orig_nbformat": 4,
  "vscode": {
   "interpreter": {
    "hash": "218f7a967afb662943e57b2677ccb949839c78ab897dd43b6bac4d0b3635545d"
   }
  }
 },
 "nbformat": 4,
 "nbformat_minor": 2
}
