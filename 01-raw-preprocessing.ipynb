{
 "cells": [
  {
   "cell_type": "code",
   "execution_count": null,
   "metadata": {},
   "outputs": [],
   "source": [
    "import ebooklib\n",
    "import os\n",
    "from bs4 import BeautifulSoup\n",
    "from ebooklib import epub\n",
    "from googletrans import Translator\n",
    "\n",
    "\n",
    "translator = Translator()\n",
    "clone = []\n",
    "epub_files = os.listdir('epub-files') #epub-files\n",
    "print(len(epub_files), \"ePub files\")"
   ]
  },
  {
   "cell_type": "code",
   "execution_count": null,
   "metadata": {},
   "outputs": [],
   "source": [
    "file = open('tl-storytelling-dataset.txt','w') \n",
    "for efile in epub_files:\n",
    "    efile = r\"dataset-filipino-storytelling/%s\" % efile\n",
    "    pageCounter = 0\n",
    "    book = epub.read_epub(efile)\n",
    "    for item in book.get_items():\n",
    "        if item.get_type() == ebooklib.ITEM_DOCUMENT:\n",
    "            if 'Page' in item.get_name():\n",
    "                soup = BeautifulSoup(item.get_body_content(), 'html.parser')\n",
    "                output = soup.find_all('p')[0]\n",
    "                output = str(output)\n",
    "                output = output.replace('<br/>', ' ')\n",
    "                output = BeautifulSoup(output).get_text()\n",
    "                pageCounter += 1\n",
    "                try:\n",
    "                    if '.' in output:\n",
    "                       output = '\\n'.join([t.lstrip() for t in output.split(\".\")]) # Splitting sentences and removing leading whitespace\n",
    "                    file.write(output.strip(\"\\n\") + '\\n')\n",
    "                except UnicodeEncodeError as e:\n",
    "                    print(item.get_name())\n",
    "                    print(output)\n",
    "file.close()    \n",
    "print(\"Preprocessing Step [1/4] Done!\")"
   ]
  },
  {
   "cell_type": "code",
   "execution_count": null,
   "metadata": {},
   "outputs": [],
   "source": [
    "text = '김하연(부 티 낌 하) 글 | 김다솔 그림  저는 베트남의 아름다운 바닷가 도시 하이퐁에서 태어났습니다. 한국에서 생활한 지는 5년이 되었으며, 두 딸의 엄마입니다. 현재는 제 꿈을 이루기 위해 한국방송통신대학교에서 유아교육학을 공부하고 있습니다. 어렸을 때 아버지께서는 전래동화를 많이 들려주셨습니다. 저는 그 중 ‘하이 바 쯩’이라는 이야기를 가장 좋아했습니다. 세 딸을 둔 아버지께서는 이 이야기를 통해 저희에게 여성의 강인함은 물론 여자도 남자처럼 무엇이든 잘 할 수 있다고 늘 가르쳐주셨습니다. 이번 기회를 통하여 베트남의 자랑스러운 민족 영웅 ‘쯩 자매의 전설’ 이야기를 소개하고자 합니다. 제 두 딸뿐만 아니라 더 많은 독자가 이 이야기를 통해 귀한 깨달음을 얻기를 바랍니다.'\n",
    "translated = translator.translate(text,dest='tl')\n",
    "print(translated.text)"
   ]
  }
 ],
 "metadata": {
  "kernelspec": {
   "display_name": "Python 3.10.4 ('env_mgnntagset')",
   "language": "python",
   "name": "python3"
  },
  "language_info": {
   "codemirror_mode": {
    "name": "ipython",
    "version": 3
   },
   "file_extension": ".py",
   "mimetype": "text/x-python",
   "name": "python",
   "nbconvert_exporter": "python",
   "pygments_lexer": "ipython3",
   "version": "3.10.4"
  },
  "orig_nbformat": 4,
  "vscode": {
   "interpreter": {
    "hash": "218f7a967afb662943e57b2677ccb949839c78ab897dd43b6bac4d0b3635545d"
   }
  }
 },
 "nbformat": 4,
 "nbformat_minor": 2
}
