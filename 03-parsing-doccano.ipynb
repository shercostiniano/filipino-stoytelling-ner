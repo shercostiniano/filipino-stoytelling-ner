{
 "cells": [
  {
   "cell_type": "markdown",
   "metadata": {},
   "source": [
    "# Parse .jsonL to list"
   ]
  },
  {
   "cell_type": "code",
   "execution_count": null,
   "metadata": {},
   "outputs": [],
   "source": [
    "import sys\n",
    "import json\n",
    "import data_utils\n",
    "\n",
    "# Change file name\n",
    "# annotated_path = r'dataset\\doccano-annotated\\complete-unique-label.jsonl'\n",
    "# csv_annotated_path = r'dataset\\doccano-annotated\\complete-unique-label.csv'\n",
    "annotated_path = r'predefined-dataset-batch1.json1'\n",
    "csv_annotated_path = r'predefined-dataset-batch1.csv'\n",
    "\n",
    "fo = open(annotated_path, \"r\")\n",
    "lines = fo.readlines()\n",
    "sentence_tag_list = []\n",
    "sentence_list = []\n",
    "for line in lines:\n",
    "    line =json.loads(line)\n",
    "    sentence = line['text']\n",
    "    labels = line['label']\n",
    "    word_list = []\n",
    "    tag_list = []\n",
    "    for label in labels:\n",
    "        start = label[0]\n",
    "        end = label[1]\n",
    "        tag = label[2]\n",
    "        word = sentence[start:end].rstrip(' ').lstrip(' ')\n",
    "        word_list.append(word)\n",
    "        tag_list.append(tag)\n",
    "\n",
    "    if word_list != []:\n",
    "        sentence_list.append(word_list)\n",
    "    if tag_list != []:\n",
    "        sentence_tag_list.append(tag_list)\n",
    "        \n",
    "# Removing whitespace in tags and replacing with underscore \n",
    "# Natural Environment  = Natural_Environment\n",
    "sentence_tag_list = [list(map(lambda tag: tag.replace(\" \",\"_\"), sentence_tag)) for sentence_tag in sentence_tag_list]"
   ]
  },
  {
   "cell_type": "markdown",
   "metadata": {},
   "source": [
    "# Shuffle Dataset"
   ]
  },
  {
   "cell_type": "code",
   "execution_count": null,
   "metadata": {},
   "outputs": [],
   "source": [
    "import numpy\n",
    "def shuffle_in_unison_scary(a, b):\n",
    "    rng_state = numpy.random.get_state()\n",
    "    numpy.random.shuffle(a)\n",
    "    numpy.random.set_state(rng_state)\n",
    "    numpy.random.shuffle(b)\n",
    "    return a,b\n",
    "\n",
    "\n",
    "# shuffle_sentence, shuffle_tag = shuffle_in_unison_scary(sentence_list,sentence_tag_list)\n",
    "\n",
    "# print(\"\\nAfter:\")\n",
    "# print(shuffle_sentence[:3])\n",
    "# print(shuffle_tag[:3])\n",
    "print(sentence_list[:5])\n",
    "print(sentence_tag_list[:5])\n"
   ]
  },
  {
   "cell_type": "markdown",
   "metadata": {},
   "source": [
    "# HUGGING FACE DATASET"
   ]
  },
  {
   "cell_type": "code",
   "execution_count": null,
   "metadata": {},
   "outputs": [],
   "source": [
    "import pandas as pd\n",
    "import numpy as np\n",
    "\n",
    "dataset = np.column_stack((shuffle_sentence, shuffle_tag))\n",
    "df = pd.DataFrame(dataset, columns=['tokens','tags'])\n",
    "df.to_csv(csv_annotated_path, index=False)\n",
    "df.head()"
   ]
  },
  {
   "cell_type": "markdown",
   "metadata": {},
   "source": [
    "# BLSTM DATASET"
   ]
  },
  {
   "cell_type": "code",
   "execution_count": null,
   "metadata": {},
   "outputs": [],
   "source": [
    "import data_utils\n",
    "\n",
    "total = len(shuffle_sentence)\n",
    "train_split = round(total * 0.7)\n",
    "test_split = round(total * 0.3) \n",
    "\n",
    "shuffle_train_text = shuffle_sentence[0:train_split]\n",
    "shuffle_train_tags = shuffle_tag[0:train_split]\n",
    "shuffle_test_text = shuffle_sentence[train_split:total]\n",
    "shuffle_test_tags = shuffle_tag[train_split:total]\n",
    "\n",
    "print(\"Train: \", len(shuffle_train_text),len(shuffle_train_tags))\n",
    "print(\"Test: \", len(shuffle_test_text), len(shuffle_test_tags))\n",
    "\n",
    "\n",
    "train_text_path = r'dataset\\doccano-annotated\\train-text.txt'\n",
    "train_tags_path = r'dataset\\doccano-annotated\\train-tags.txt'\n",
    "test_text_path = r'dataset\\doccano-annotated\\test-text.txt'\n",
    "test_tags_path = r'dataset\\doccano-annotated\\test-tags.txt'\n",
    "\n",
    "data_utils.write_text_file(train_text_path, shuffle_train_text)\n",
    "data_utils.write_text_file(train_tags_path, shuffle_train_tags)\n",
    "data_utils.write_text_file(test_text_path, shuffle_test_text)\n",
    "data_utils.write_text_file(test_tags_path, shuffle_test_tags)\n",
    "\n",
    "print(\"Files saved!\")"
   ]
  }
 ],
 "metadata": {
  "kernelspec": {
   "display_name": "Python 3.10.4 ('env_mgnntagset')",
   "language": "python",
   "name": "python3"
  },
  "language_info": {
   "codemirror_mode": {
    "name": "ipython",
    "version": 3
   },
   "file_extension": ".py",
   "mimetype": "text/x-python",
   "name": "python",
   "nbconvert_exporter": "python",
   "pygments_lexer": "ipython3",
   "version": "3.10.4"
  },
  "orig_nbformat": 4,
  "vscode": {
   "interpreter": {
    "hash": "218f7a967afb662943e57b2677ccb949839c78ab897dd43b6bac4d0b3635545d"
   }
  }
 },
 "nbformat": 4,
 "nbformat_minor": 2
}
